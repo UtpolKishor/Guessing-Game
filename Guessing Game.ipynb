{
 "cells": [
  {
   "cell_type": "code",
   "execution_count": 1,
   "id": "c7d96a49",
   "metadata": {},
   "outputs": [],
   "source": [
    "import random"
   ]
  },
  {
   "cell_type": "code",
   "execution_count": 2,
   "id": "df128ce6",
   "metadata": {},
   "outputs": [
    {
     "data": {
      "text/plain": [
       "78"
      ]
     },
     "execution_count": 2,
     "metadata": {},
     "output_type": "execute_result"
    }
   ],
   "source": [
    "random.randint(1,100)"
   ]
  },
  {
   "cell_type": "code",
   "execution_count": 5,
   "id": "d6ccc72c",
   "metadata": {},
   "outputs": [
    {
     "name": "stdout",
     "output_type": "stream",
     "text": [
      "Guess the Number: 50\n",
      "Guess Lower\n",
      "Guess Again: 40\n",
      "Guess Lower\n",
      "Guess Again: 30\n",
      "Guess Lower\n",
      "Guess Again: 20\n",
      "Guess Higher\n",
      "Guess Again: 25\n",
      "Guess Higher\n",
      "Guess Again: 28\n",
      "Guess Higher\n",
      "Guess Again: 29\n",
      "Correct\n",
      "You took 7 attempts\n"
     ]
    }
   ],
   "source": [
    "jackpot = random.randint(1,100)\n",
    "\n",
    "guess = int(input(\"Guess the Number: \"))\n",
    "counter = 1\n",
    "\n",
    "while guess != jackpot:\n",
    "    if guess < jackpot:\n",
    "        print(\"Guess Higher\")\n",
    "    else:\n",
    "        print(\"Guess Lower\")\n",
    "        \n",
    "    guess = int(input(\"Guess Again: \"))\n",
    "    counter += 1\n",
    "    \n",
    "print(\"Correct\")\n",
    "print(\"You took\", counter, \"attempts\")"
   ]
  }
 ],
 "metadata": {
  "kernelspec": {
   "display_name": "Python 3 (ipykernel)",
   "language": "python",
   "name": "python3"
  },
  "language_info": {
   "codemirror_mode": {
    "name": "ipython",
    "version": 3
   },
   "file_extension": ".py",
   "mimetype": "text/x-python",
   "name": "python",
   "nbconvert_exporter": "python",
   "pygments_lexer": "ipython3",
   "version": "3.9.13"
  }
 },
 "nbformat": 4,
 "nbformat_minor": 5
}
